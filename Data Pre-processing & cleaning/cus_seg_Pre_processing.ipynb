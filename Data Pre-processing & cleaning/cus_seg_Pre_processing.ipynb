{
  "nbformat": 4,
  "nbformat_minor": 0,
  "metadata": {
    "colab": {
      "provenance": [],
      "collapsed_sections": [],
      "machine_shape": "hm"
    },
    "kernelspec": {
      "name": "python3",
      "display_name": "Python 3"
    },
    "language_info": {
      "name": "python"
    },
    "gpuClass": "premium"
  },
  "cells": [
    {
      "cell_type": "code",
      "execution_count": 1,
      "metadata": {
        "id": "y_gjtYgQAxZ1",
        "colab": {
          "base_uri": "https://localhost:8080/"
        },
        "outputId": "662f0a62-0165-421d-c1ec-f34511ecec97"
      },
      "outputs": [
        {
          "output_type": "stream",
          "name": "stdout",
          "text": [
            "Drive already mounted at /content/drive; to attempt to forcibly remount, call drive.mount(\"/content/drive\", force_remount=True).\n"
          ]
        }
      ],
      "source": [
        "from google.colab import drive\n",
        "drive.mount('/content/drive')"
      ]
    },
    {
      "cell_type": "code",
      "source": [
        "import pandas as pd\n",
        "import seaborn as sns\n",
        "import numpy as np\n",
        "from sklearn.ensemble import RandomForestRegressor, RandomForestClassifier\n",
        "from sklearn.experimental import enable_iterative_imputer\n",
        "from sklearn.impute import KNNImputer, SimpleImputer ,IterativeImputer\n",
        "from sklearn.preprocessing import LabelEncoder,OrdinalEncoder\n",
        "from collections import defaultdict\n",
        "from matplotlib import pyplot as plt \n",
        "#import pycountry_convert as pc\n",
        "sns.set_theme('poster')\n",
        "sns.set_style('white')\n",
        "\n",
        "data = pd.read_csv(\"/content/drive/MyDrive/data/cust_seg.csv\")\n",
        "data.head()"
      ],
      "metadata": {
        "id": "0_T3BdB8kMqy",
        "colab": {
          "base_uri": "https://localhost:8080/",
          "height": 353
        },
        "outputId": "d44dbeaa-d289-4431-c6ae-c12b3613941e"
      },
      "execution_count": 2,
      "outputs": [
        {
          "output_type": "stream",
          "name": "stderr",
          "text": [
            "/usr/local/lib/python3.7/dist-packages/IPython/core/interactiveshell.py:3326: DtypeWarning: Columns (16) have mixed types.Specify dtype option on import or set low_memory=False.\n",
            "  exec(code_obj, self.user_global_ns, self.user_ns)\n"
          ]
        },
        {
          "output_type": "execute_result",
          "data": {
            "text/plain": [
              "   Unnamed: 0  fecha_dato  ncodpers ind_empleado pais_residencia sexo  age  \\\n",
              "0           0  2015-01-28   1375586            N              ES    H   35   \n",
              "1           1  2015-01-28   1050611            N              ES    V   23   \n",
              "2           2  2015-01-28   1050612            N              ES    V   23   \n",
              "3           3  2015-01-28   1050613            N              ES    H   22   \n",
              "4           4  2015-01-28   1050614            N              ES    V   23   \n",
              "\n",
              "   fecha_alta  ind_nuevo antiguedad  ...  ind_hip_fin_ult1 ind_plan_fin_ult1  \\\n",
              "0  2015-01-12        0.0          6  ...                 0                 0   \n",
              "1  2012-08-10        0.0         35  ...                 0                 0   \n",
              "2  2012-08-10        0.0         35  ...                 0                 0   \n",
              "3  2012-08-10        0.0         35  ...                 0                 0   \n",
              "4  2012-08-10        0.0         35  ...                 0                 0   \n",
              "\n",
              "   ind_pres_fin_ult1 ind_reca_fin_ult1 ind_tjcr_fin_ult1 ind_valo_fin_ult1  \\\n",
              "0                  0                 0                 0                 0   \n",
              "1                  0                 0                 0                 0   \n",
              "2                  0                 0                 0                 0   \n",
              "3                  0                 0                 0                 0   \n",
              "4                  0                 0                 0                 0   \n",
              "\n",
              "  ind_viv_fin_ult1 ind_nomina_ult1 ind_nom_pens_ult1  ind_recibo_ult1  \n",
              "0                0             0.0               0.0                0  \n",
              "1                0             0.0               0.0                0  \n",
              "2                0             0.0               0.0                0  \n",
              "3                0             0.0               0.0                0  \n",
              "4                0             0.0               0.0                0  \n",
              "\n",
              "[5 rows x 48 columns]"
            ],
            "text/html": [
              "\n",
              "  <div id=\"df-638ff422-53fb-4f4f-a2a9-1b8a0f20094a\">\n",
              "    <div class=\"colab-df-container\">\n",
              "      <div>\n",
              "<style scoped>\n",
              "    .dataframe tbody tr th:only-of-type {\n",
              "        vertical-align: middle;\n",
              "    }\n",
              "\n",
              "    .dataframe tbody tr th {\n",
              "        vertical-align: top;\n",
              "    }\n",
              "\n",
              "    .dataframe thead th {\n",
              "        text-align: right;\n",
              "    }\n",
              "</style>\n",
              "<table border=\"1\" class=\"dataframe\">\n",
              "  <thead>\n",
              "    <tr style=\"text-align: right;\">\n",
              "      <th></th>\n",
              "      <th>Unnamed: 0</th>\n",
              "      <th>fecha_dato</th>\n",
              "      <th>ncodpers</th>\n",
              "      <th>ind_empleado</th>\n",
              "      <th>pais_residencia</th>\n",
              "      <th>sexo</th>\n",
              "      <th>age</th>\n",
              "      <th>fecha_alta</th>\n",
              "      <th>ind_nuevo</th>\n",
              "      <th>antiguedad</th>\n",
              "      <th>...</th>\n",
              "      <th>ind_hip_fin_ult1</th>\n",
              "      <th>ind_plan_fin_ult1</th>\n",
              "      <th>ind_pres_fin_ult1</th>\n",
              "      <th>ind_reca_fin_ult1</th>\n",
              "      <th>ind_tjcr_fin_ult1</th>\n",
              "      <th>ind_valo_fin_ult1</th>\n",
              "      <th>ind_viv_fin_ult1</th>\n",
              "      <th>ind_nomina_ult1</th>\n",
              "      <th>ind_nom_pens_ult1</th>\n",
              "      <th>ind_recibo_ult1</th>\n",
              "    </tr>\n",
              "  </thead>\n",
              "  <tbody>\n",
              "    <tr>\n",
              "      <th>0</th>\n",
              "      <td>0</td>\n",
              "      <td>2015-01-28</td>\n",
              "      <td>1375586</td>\n",
              "      <td>N</td>\n",
              "      <td>ES</td>\n",
              "      <td>H</td>\n",
              "      <td>35</td>\n",
              "      <td>2015-01-12</td>\n",
              "      <td>0.0</td>\n",
              "      <td>6</td>\n",
              "      <td>...</td>\n",
              "      <td>0</td>\n",
              "      <td>0</td>\n",
              "      <td>0</td>\n",
              "      <td>0</td>\n",
              "      <td>0</td>\n",
              "      <td>0</td>\n",
              "      <td>0</td>\n",
              "      <td>0.0</td>\n",
              "      <td>0.0</td>\n",
              "      <td>0</td>\n",
              "    </tr>\n",
              "    <tr>\n",
              "      <th>1</th>\n",
              "      <td>1</td>\n",
              "      <td>2015-01-28</td>\n",
              "      <td>1050611</td>\n",
              "      <td>N</td>\n",
              "      <td>ES</td>\n",
              "      <td>V</td>\n",
              "      <td>23</td>\n",
              "      <td>2012-08-10</td>\n",
              "      <td>0.0</td>\n",
              "      <td>35</td>\n",
              "      <td>...</td>\n",
              "      <td>0</td>\n",
              "      <td>0</td>\n",
              "      <td>0</td>\n",
              "      <td>0</td>\n",
              "      <td>0</td>\n",
              "      <td>0</td>\n",
              "      <td>0</td>\n",
              "      <td>0.0</td>\n",
              "      <td>0.0</td>\n",
              "      <td>0</td>\n",
              "    </tr>\n",
              "    <tr>\n",
              "      <th>2</th>\n",
              "      <td>2</td>\n",
              "      <td>2015-01-28</td>\n",
              "      <td>1050612</td>\n",
              "      <td>N</td>\n",
              "      <td>ES</td>\n",
              "      <td>V</td>\n",
              "      <td>23</td>\n",
              "      <td>2012-08-10</td>\n",
              "      <td>0.0</td>\n",
              "      <td>35</td>\n",
              "      <td>...</td>\n",
              "      <td>0</td>\n",
              "      <td>0</td>\n",
              "      <td>0</td>\n",
              "      <td>0</td>\n",
              "      <td>0</td>\n",
              "      <td>0</td>\n",
              "      <td>0</td>\n",
              "      <td>0.0</td>\n",
              "      <td>0.0</td>\n",
              "      <td>0</td>\n",
              "    </tr>\n",
              "    <tr>\n",
              "      <th>3</th>\n",
              "      <td>3</td>\n",
              "      <td>2015-01-28</td>\n",
              "      <td>1050613</td>\n",
              "      <td>N</td>\n",
              "      <td>ES</td>\n",
              "      <td>H</td>\n",
              "      <td>22</td>\n",
              "      <td>2012-08-10</td>\n",
              "      <td>0.0</td>\n",
              "      <td>35</td>\n",
              "      <td>...</td>\n",
              "      <td>0</td>\n",
              "      <td>0</td>\n",
              "      <td>0</td>\n",
              "      <td>0</td>\n",
              "      <td>0</td>\n",
              "      <td>0</td>\n",
              "      <td>0</td>\n",
              "      <td>0.0</td>\n",
              "      <td>0.0</td>\n",
              "      <td>0</td>\n",
              "    </tr>\n",
              "    <tr>\n",
              "      <th>4</th>\n",
              "      <td>4</td>\n",
              "      <td>2015-01-28</td>\n",
              "      <td>1050614</td>\n",
              "      <td>N</td>\n",
              "      <td>ES</td>\n",
              "      <td>V</td>\n",
              "      <td>23</td>\n",
              "      <td>2012-08-10</td>\n",
              "      <td>0.0</td>\n",
              "      <td>35</td>\n",
              "      <td>...</td>\n",
              "      <td>0</td>\n",
              "      <td>0</td>\n",
              "      <td>0</td>\n",
              "      <td>0</td>\n",
              "      <td>0</td>\n",
              "      <td>0</td>\n",
              "      <td>0</td>\n",
              "      <td>0.0</td>\n",
              "      <td>0.0</td>\n",
              "      <td>0</td>\n",
              "    </tr>\n",
              "  </tbody>\n",
              "</table>\n",
              "<p>5 rows × 48 columns</p>\n",
              "</div>\n",
              "      <button class=\"colab-df-convert\" onclick=\"convertToInteractive('df-638ff422-53fb-4f4f-a2a9-1b8a0f20094a')\"\n",
              "              title=\"Convert this dataframe to an interactive table.\"\n",
              "              style=\"display:none;\">\n",
              "        \n",
              "  <svg xmlns=\"http://www.w3.org/2000/svg\" height=\"24px\"viewBox=\"0 0 24 24\"\n",
              "       width=\"24px\">\n",
              "    <path d=\"M0 0h24v24H0V0z\" fill=\"none\"/>\n",
              "    <path d=\"M18.56 5.44l.94 2.06.94-2.06 2.06-.94-2.06-.94-.94-2.06-.94 2.06-2.06.94zm-11 1L8.5 8.5l.94-2.06 2.06-.94-2.06-.94L8.5 2.5l-.94 2.06-2.06.94zm10 10l.94 2.06.94-2.06 2.06-.94-2.06-.94-.94-2.06-.94 2.06-2.06.94z\"/><path d=\"M17.41 7.96l-1.37-1.37c-.4-.4-.92-.59-1.43-.59-.52 0-1.04.2-1.43.59L10.3 9.45l-7.72 7.72c-.78.78-.78 2.05 0 2.83L4 21.41c.39.39.9.59 1.41.59.51 0 1.02-.2 1.41-.59l7.78-7.78 2.81-2.81c.8-.78.8-2.07 0-2.86zM5.41 20L4 18.59l7.72-7.72 1.47 1.35L5.41 20z\"/>\n",
              "  </svg>\n",
              "      </button>\n",
              "      \n",
              "  <style>\n",
              "    .colab-df-container {\n",
              "      display:flex;\n",
              "      flex-wrap:wrap;\n",
              "      gap: 12px;\n",
              "    }\n",
              "\n",
              "    .colab-df-convert {\n",
              "      background-color: #E8F0FE;\n",
              "      border: none;\n",
              "      border-radius: 50%;\n",
              "      cursor: pointer;\n",
              "      display: none;\n",
              "      fill: #1967D2;\n",
              "      height: 32px;\n",
              "      padding: 0 0 0 0;\n",
              "      width: 32px;\n",
              "    }\n",
              "\n",
              "    .colab-df-convert:hover {\n",
              "      background-color: #E2EBFA;\n",
              "      box-shadow: 0px 1px 2px rgba(60, 64, 67, 0.3), 0px 1px 3px 1px rgba(60, 64, 67, 0.15);\n",
              "      fill: #174EA6;\n",
              "    }\n",
              "\n",
              "    [theme=dark] .colab-df-convert {\n",
              "      background-color: #3B4455;\n",
              "      fill: #D2E3FC;\n",
              "    }\n",
              "\n",
              "    [theme=dark] .colab-df-convert:hover {\n",
              "      background-color: #434B5C;\n",
              "      box-shadow: 0px 1px 3px 1px rgba(0, 0, 0, 0.15);\n",
              "      filter: drop-shadow(0px 1px 2px rgba(0, 0, 0, 0.3));\n",
              "      fill: #FFFFFF;\n",
              "    }\n",
              "  </style>\n",
              "\n",
              "      <script>\n",
              "        const buttonEl =\n",
              "          document.querySelector('#df-638ff422-53fb-4f4f-a2a9-1b8a0f20094a button.colab-df-convert');\n",
              "        buttonEl.style.display =\n",
              "          google.colab.kernel.accessAllowed ? 'block' : 'none';\n",
              "\n",
              "        async function convertToInteractive(key) {\n",
              "          const element = document.querySelector('#df-638ff422-53fb-4f4f-a2a9-1b8a0f20094a');\n",
              "          const dataTable =\n",
              "            await google.colab.kernel.invokeFunction('convertToInteractive',\n",
              "                                                     [key], {});\n",
              "          if (!dataTable) return;\n",
              "\n",
              "          const docLinkHtml = 'Like what you see? Visit the ' +\n",
              "            '<a target=\"_blank\" href=https://colab.research.google.com/notebooks/data_table.ipynb>data table notebook</a>'\n",
              "            + ' to learn more about interactive tables.';\n",
              "          element.innerHTML = '';\n",
              "          dataTable['output_type'] = 'display_data';\n",
              "          await google.colab.output.renderOutput(dataTable, element);\n",
              "          const docLink = document.createElement('div');\n",
              "          docLink.innerHTML = docLinkHtml;\n",
              "          element.appendChild(docLink);\n",
              "        }\n",
              "      </script>\n",
              "    </div>\n",
              "  </div>\n",
              "  "
            ]
          },
          "metadata": {},
          "execution_count": 2
        }
      ]
    },
    {
      "cell_type": "code",
      "source": [
        "data.isnull().sum()"
      ],
      "metadata": {
        "id": "znrhqr85kM1P",
        "colab": {
          "base_uri": "https://localhost:8080/"
        },
        "outputId": "741ab250-eacb-4849-83eb-e4ed0c3c33e9"
      },
      "execution_count": 3,
      "outputs": [
        {
          "output_type": "execute_result",
          "data": {
            "text/plain": [
              "Unnamed: 0                    0\n",
              "fecha_dato                    0\n",
              "ncodpers                      0\n",
              "ind_empleado              10782\n",
              "pais_residencia           10782\n",
              "sexo                      10786\n",
              "age                           0\n",
              "fecha_alta                10782\n",
              "ind_nuevo                 10782\n",
              "antiguedad                    0\n",
              "indrel                    10782\n",
              "ult_fec_cli_1t           998899\n",
              "indrel_1mes               10782\n",
              "tiprel_1mes               10782\n",
              "indresi                   10782\n",
              "indext                    10782\n",
              "conyuemp                 999822\n",
              "canal_entrada             10861\n",
              "indfall                   10782\n",
              "tipodom                   10782\n",
              "cod_prov                  17734\n",
              "nomprov                   17734\n",
              "ind_actividad_cliente     10782\n",
              "renta                    175183\n",
              "ind_ahor_fin_ult1             0\n",
              "ind_aval_fin_ult1             0\n",
              "ind_cco_fin_ult1              0\n",
              "ind_cder_fin_ult1             0\n",
              "ind_cno_fin_ult1              0\n",
              "ind_ctju_fin_ult1             0\n",
              "ind_ctma_fin_ult1             0\n",
              "ind_ctop_fin_ult1             0\n",
              "ind_ctpp_fin_ult1             0\n",
              "ind_deco_fin_ult1             0\n",
              "ind_deme_fin_ult1             0\n",
              "ind_dela_fin_ult1             0\n",
              "ind_ecue_fin_ult1             0\n",
              "ind_fond_fin_ult1             0\n",
              "ind_hip_fin_ult1              0\n",
              "ind_plan_fin_ult1             0\n",
              "ind_pres_fin_ult1             0\n",
              "ind_reca_fin_ult1             0\n",
              "ind_tjcr_fin_ult1             0\n",
              "ind_valo_fin_ult1             0\n",
              "ind_viv_fin_ult1              0\n",
              "ind_nomina_ult1            5402\n",
              "ind_nom_pens_ult1          5402\n",
              "ind_recibo_ult1               0\n",
              "dtype: int64"
            ]
          },
          "metadata": {},
          "execution_count": 3
        }
      ]
    },
    {
      "cell_type": "code",
      "source": [
        "new_names= {'fecha_dato':'Date',\n",
        "'ncodpers':\t'Customer code',\n",
        "'ind_empleado':\t'Employee index',\n",
        "'pais_residencia':\t'Customer Country residence',\n",
        "'sexo':\t'Customers sex',\n",
        "'age':\t'Age',\n",
        "'fecha_alta':'The date contract in the bank',\n",
        "'ind_nuevo':'New customer Index', \n",
        "'antiguedad':\t'Customer seniority', \n",
        "'indrel':\t'Primary at the end of the month',\n",
        "'ult_fec_cli_1t':\t'Last date as primary customer',\n",
        "'indrel_1mes':\t'Customer type at the beginning of the month',\n",
        "'tiprel_1mes':\t'Customer relation type at the beginning of the month',\n",
        "'indresi':\t'Residence index',\n",
        "'indext':\t'Foreigner index',\n",
        "'conyuemp':\t'Spouse index',\n",
        "'canal_entrada':'channel used by the customer to join',\n",
        "'indfall':\t'Deceased index',\n",
        "'tipodom':\t'primary address',\n",
        "'cod_prov':\t'Province code',\n",
        "'nomprov':\t'Province name',\n",
        "'ind_actividad_cliente': 'Activity index',\n",
        "'renta':'Gross income of the household',\n",
        "'ind_ahor_fin_ult1':\t'Saving Account',\n",
        "'ind_aval_fin_ult1':\t'Guarantees',\n",
        "'ind_cco_fin_ult1':\t'Current Accounts',\n",
        "'ind_cder_fin_ult1':'Derivada Account',\n",
        "'ind_cno_fin_ult1':\t'Payroll Account',\n",
        "'ind_ctju_fin_ult1':\t'Junior Account',\n",
        "'ind_ctma_fin_ult1':\t'Más particular Account',\n",
        "'ind_ctop_fin_ult1':\t'particular Account',\n",
        "'ind_ctpp_fin_ult1':\t'particular Plus Account',\n",
        "'ind_deco_fin_ult1':\t'Short-term deposits',\n",
        "'ind_deme_fin_ult1':\t'Medium-term deposits',\n",
        "'ind_dela_fin_ult1': 'Long-term deposits',\n",
        "'ind_ecue_fin_ult1':'e-account',\n",
        "'ind_fond_fin_ult1':'Funds',\n",
        "'ind_hip_fin_ult1':\t'Mortgage',\n",
        "'ind_plan_fin_ult1':'Pensions',\n",
        "'ind_pres_fin_ult1':'Loans',\n",
        "'ind_reca_fin_ult1':'Taxes',\n",
        "'ind_tjcr_fin_ult1':'Credit Card',\n",
        "'ind_valo_fin_ult1':'Securities',\n",
        "'ind_viv_fin_ult1':\t'Home Account',\n",
        "'ind_nomina_ult1':\t'Payroll',\n",
        "'ind_nom_pens_ult1':'Pensions',\n",
        "'ind_recibo_ult1':\t'Direct Debit'}"
      ],
      "metadata": {
        "id": "_DjQxOXrkM4H"
      },
      "execution_count": 4,
      "outputs": []
    },
    {
      "cell_type": "code",
      "source": [
        "data.rename(columns=new_names, inplace = True)"
      ],
      "metadata": {
        "id": "gpECeftpkM6p"
      },
      "execution_count": 5,
      "outputs": []
    },
    {
      "cell_type": "code",
      "source": [
        "data.info()"
      ],
      "metadata": {
        "id": "uLhRrH7QkM83",
        "colab": {
          "base_uri": "https://localhost:8080/"
        },
        "outputId": "96218e82-2a26-44a0-b0f3-dc6cc0f5a512"
      },
      "execution_count": 6,
      "outputs": [
        {
          "output_type": "stream",
          "name": "stdout",
          "text": [
            "<class 'pandas.core.frame.DataFrame'>\n",
            "RangeIndex: 1000000 entries, 0 to 999999\n",
            "Data columns (total 48 columns):\n",
            " #   Column                                                Non-Null Count    Dtype  \n",
            "---  ------                                                --------------    -----  \n",
            " 0   Unnamed: 0                                            1000000 non-null  int64  \n",
            " 1   Date                                                  1000000 non-null  object \n",
            " 2   Customer code                                         1000000 non-null  int64  \n",
            " 3   Employee index                                        989218 non-null   object \n",
            " 4   Customer Country residence                            989218 non-null   object \n",
            " 5   Customers sex                                         989214 non-null   object \n",
            " 6   Age                                                   1000000 non-null  object \n",
            " 7   The date contract in the bank                         989218 non-null   object \n",
            " 8   New customer Index                                    989218 non-null   float64\n",
            " 9   Customer seniority                                    1000000 non-null  object \n",
            " 10  Primary at the end of the month                       989218 non-null   float64\n",
            " 11  Last date as primary customer                         1101 non-null     object \n",
            " 12  Customer type at the beginning of the month           989218 non-null   float64\n",
            " 13  Customer relation type at the beginning of the month  989218 non-null   object \n",
            " 14  Residence index                                       989218 non-null   object \n",
            " 15  Foreigner index                                       989218 non-null   object \n",
            " 16  Spouse index                                          178 non-null      object \n",
            " 17  channel used by the customer to join                  989139 non-null   object \n",
            " 18  Deceased index                                        989218 non-null   object \n",
            " 19  primary address                                       989218 non-null   float64\n",
            " 20  Province code                                         982266 non-null   float64\n",
            " 21  Province name                                         982266 non-null   object \n",
            " 22  Activity index                                        989218 non-null   float64\n",
            " 23  Gross income of the household                         824817 non-null   float64\n",
            " 24  Saving Account                                        1000000 non-null  int64  \n",
            " 25  Guarantees                                            1000000 non-null  int64  \n",
            " 26  Current Accounts                                      1000000 non-null  int64  \n",
            " 27  Derivada Account                                      1000000 non-null  int64  \n",
            " 28  Payroll Account                                       1000000 non-null  int64  \n",
            " 29  Junior Account                                        1000000 non-null  int64  \n",
            " 30  Más particular Account                                1000000 non-null  int64  \n",
            " 31  particular Account                                    1000000 non-null  int64  \n",
            " 32  particular Plus Account                               1000000 non-null  int64  \n",
            " 33  Short-term deposits                                   1000000 non-null  int64  \n",
            " 34  Medium-term deposits                                  1000000 non-null  int64  \n",
            " 35  Long-term deposits                                    1000000 non-null  int64  \n",
            " 36  e-account                                             1000000 non-null  int64  \n",
            " 37  Funds                                                 1000000 non-null  int64  \n",
            " 38  Mortgage                                              1000000 non-null  int64  \n",
            " 39  Pensions                                              1000000 non-null  int64  \n",
            " 40  Loans                                                 1000000 non-null  int64  \n",
            " 41  Taxes                                                 1000000 non-null  int64  \n",
            " 42  Credit Card                                           1000000 non-null  int64  \n",
            " 43  Securities                                            1000000 non-null  int64  \n",
            " 44  Home Account                                          1000000 non-null  int64  \n",
            " 45  Payroll                                               994598 non-null   float64\n",
            " 46  Pensions                                              994598 non-null   float64\n",
            " 47  Direct Debit                                          1000000 non-null  int64  \n",
            "dtypes: float64(9), int64(24), object(15)\n",
            "memory usage: 366.2+ MB\n"
          ]
        }
      ]
    },
    {
      "cell_type": "code",
      "source": [
        "# columns dropped because of large number of missing values \n",
        "drop_columns=['Last date as primary customer','Spouse index']\n",
        "data.drop(drop_columns,axis=1,inplace=True)"
      ],
      "metadata": {
        "id": "dAeJg92SkND0"
      },
      "execution_count": 7,
      "outputs": []
    },
    {
      "cell_type": "code",
      "source": [
        "data.isnull().sum()"
      ],
      "metadata": {
        "id": "-GHaKy6wkNPn",
        "colab": {
          "base_uri": "https://localhost:8080/"
        },
        "outputId": "7a3d6d3b-b5f3-4850-df0f-f533b05de254"
      },
      "execution_count": 8,
      "outputs": [
        {
          "output_type": "execute_result",
          "data": {
            "text/plain": [
              "Unnamed: 0                                                   0\n",
              "Date                                                         0\n",
              "Customer code                                                0\n",
              "Employee index                                           10782\n",
              "Customer Country residence                               10782\n",
              "Customers sex                                            10786\n",
              "Age                                                          0\n",
              "The date contract in the bank                            10782\n",
              "New customer Index                                       10782\n",
              "Customer seniority                                           0\n",
              "Primary at the end of the month                          10782\n",
              "Customer type at the beginning of the month              10782\n",
              "Customer relation type at the beginning of the month     10782\n",
              "Residence index                                          10782\n",
              "Foreigner index                                          10782\n",
              "channel used by the customer to join                     10861\n",
              "Deceased index                                           10782\n",
              "primary address                                          10782\n",
              "Province code                                            17734\n",
              "Province name                                            17734\n",
              "Activity index                                           10782\n",
              "Gross income of the household                           175183\n",
              "Saving Account                                               0\n",
              "Guarantees                                                   0\n",
              "Current Accounts                                             0\n",
              "Derivada Account                                             0\n",
              "Payroll Account                                              0\n",
              "Junior Account                                               0\n",
              "Más particular Account                                       0\n",
              "particular Account                                           0\n",
              "particular Plus Account                                      0\n",
              "Short-term deposits                                          0\n",
              "Medium-term deposits                                         0\n",
              "Long-term deposits                                           0\n",
              "e-account                                                    0\n",
              "Funds                                                        0\n",
              "Mortgage                                                     0\n",
              "Pensions                                                     0\n",
              "Loans                                                        0\n",
              "Taxes                                                        0\n",
              "Credit Card                                                  0\n",
              "Securities                                                   0\n",
              "Home Account                                                 0\n",
              "Payroll                                                   5402\n",
              "Pensions                                                  5402\n",
              "Direct Debit                                                 0\n",
              "dtype: int64"
            ]
          },
          "metadata": {},
          "execution_count": 8
        }
      ]
    },
    {
      "cell_type": "code",
      "source": [
        "missing_columns = [\"Payroll\",\n",
        "\"Pensions\",\n",
        "\"Gross income of the household\", \n",
        "\"Primary at the end of the month\",\n",
        "\"Customer type at the beginning of the month\", \n",
        "\"Customer relation type at the beginning of the month\",\n",
        "\"Residence index\",                                       \n",
        "\"Foreigner index\",                                        \n",
        "\"channel used by the customer to join\",                  \n",
        "\"Deceased index\",                                      \n",
        "\"primary address\",                                         \n",
        "\"Province code\",                                           \n",
        "\"Province name\",                                           \n",
        "\"Activity index\", \n",
        "\"The date contract in the bank\",\n",
        "\"New customer Index\",\n",
        "\"Employee index\",\n",
        "\"Customer Country residence\",\n",
        "\"Customers sex\"]"
      ],
      "metadata": {
        "id": "71Qt_23Nok9x"
      },
      "execution_count": 9,
      "outputs": []
    },
    {
      "cell_type": "code",
      "source": [
        "\n",
        "for i in missing_columns:\n",
        "    print(\"Column :\", i) # print features\n",
        "    print(\"no of uniques value:\",data[i].nunique())# printing n unique\n",
        "    #print(\"counts of unique values:\",data[i].value_counts())\n",
        "    print(\"******************************\")"
      ],
      "metadata": {
        "id": "TfR3-7fxkNS9",
        "colab": {
          "base_uri": "https://localhost:8080/"
        },
        "outputId": "c01b7a8e-a840-4604-aee6-28fd592a59eb"
      },
      "execution_count": 10,
      "outputs": [
        {
          "output_type": "stream",
          "name": "stdout",
          "text": [
            "Column : Payroll\n",
            "no of uniques value: 2\n",
            "******************************\n",
            "Column : Pensions\n",
            "no of uniques value: Pensions    2\n",
            "Pensions    2\n",
            "dtype: int64\n",
            "******************************\n",
            "Column : Gross income of the household\n",
            "no of uniques value: 395668\n",
            "******************************\n",
            "Column : Primary at the end of the month\n",
            "no of uniques value: 2\n",
            "******************************\n",
            "Column : Customer type at the beginning of the month\n",
            "no of uniques value: 3\n",
            "******************************\n",
            "Column : Customer relation type at the beginning of the month\n",
            "no of uniques value: 3\n",
            "******************************\n",
            "Column : Residence index\n",
            "no of uniques value: 2\n",
            "******************************\n",
            "Column : Foreigner index\n",
            "no of uniques value: 2\n",
            "******************************\n",
            "Column : channel used by the customer to join\n",
            "no of uniques value: 156\n",
            "******************************\n",
            "Column : Deceased index\n",
            "no of uniques value: 2\n",
            "******************************\n",
            "Column : primary address\n",
            "no of uniques value: 1\n",
            "******************************\n",
            "Column : Province code\n",
            "no of uniques value: 52\n",
            "******************************\n",
            "Column : Province name\n",
            "no of uniques value: 52\n",
            "******************************\n",
            "Column : Activity index\n",
            "no of uniques value: 2\n",
            "******************************\n",
            "Column : The date contract in the bank\n",
            "no of uniques value: 6238\n",
            "******************************\n",
            "Column : New customer Index\n",
            "no of uniques value: 2\n",
            "******************************\n",
            "Column : Employee index\n",
            "no of uniques value: 5\n",
            "******************************\n",
            "Column : Customer Country residence\n",
            "no of uniques value: 113\n",
            "******************************\n",
            "Column : Customers sex\n",
            "no of uniques value: 2\n",
            "******************************\n"
          ]
        }
      ]
    },
    {
      "cell_type": "code",
      "source": [
        "data['Employee index']=data['Employee index'].replace({'A': 'active', 'B': 'ex_employed', 'F': 'filial', 'N': 'not_employee', 'P': 'pasive'})\n",
        "data['Primary at the end of the month']=data['Primary at the end of the month'].replace({1: 'Primary', 99: 'Not_Primary'} ).astype('object')\n",
        "data['Customer relation type at the beginning of the month']=data['Customer relation type at the beginning of the month'].replace({'A':'active', 'I' :'inactive', 'P' :'former customer','R': 'Potential'}).astype('object')\n",
        "data['Customer type at the beginning of the month']=data['Customer type at the beginning of the month'].replace({1: 'Primary', 2: 'co-owner','P': 'Potential',3: 'former_primary', 4:'former_co-owner'}).astype('object')\n",
        "data['Province code']=data['Province code'].astype('object')\n",
        "data['Customers sex']=data['Customers sex'].replace({'V':'F','H':'M'})\n",
        "data[['Residence index','Foreigner index','Deceased index']]=data[['Residence index','Foreigner index','Deceased index']].replace({'N':0,'S':1})"
      ],
      "metadata": {
        "id": "sixK3651uj6n"
      },
      "execution_count": 11,
      "outputs": []
    },
    {
      "cell_type": "code",
      "source": [
        "data[['Residence index','Foreigner index','Deceased index']]=data[['Residence index','Foreigner index','Deceased index']].astype(\"object\")"
      ],
      "metadata": {
        "id": "6DZ5iQQa0MbK"
      },
      "execution_count": 12,
      "outputs": []
    },
    {
      "cell_type": "code",
      "source": [
        "data.info()"
      ],
      "metadata": {
        "id": "Y4fZI_p2xgPp",
        "colab": {
          "base_uri": "https://localhost:8080/"
        },
        "outputId": "2d701e58-f13a-4b82-991f-27536c8e60bd"
      },
      "execution_count": 13,
      "outputs": [
        {
          "output_type": "stream",
          "name": "stdout",
          "text": [
            "<class 'pandas.core.frame.DataFrame'>\n",
            "RangeIndex: 1000000 entries, 0 to 999999\n",
            "Data columns (total 46 columns):\n",
            " #   Column                                                Non-Null Count    Dtype  \n",
            "---  ------                                                --------------    -----  \n",
            " 0   Unnamed: 0                                            1000000 non-null  int64  \n",
            " 1   Date                                                  1000000 non-null  object \n",
            " 2   Customer code                                         1000000 non-null  int64  \n",
            " 3   Employee index                                        989218 non-null   object \n",
            " 4   Customer Country residence                            989218 non-null   object \n",
            " 5   Customers sex                                         989214 non-null   object \n",
            " 6   Age                                                   1000000 non-null  object \n",
            " 7   The date contract in the bank                         989218 non-null   object \n",
            " 8   New customer Index                                    989218 non-null   float64\n",
            " 9   Customer seniority                                    1000000 non-null  object \n",
            " 10  Primary at the end of the month                       989218 non-null   object \n",
            " 11  Customer type at the beginning of the month           989218 non-null   object \n",
            " 12  Customer relation type at the beginning of the month  989218 non-null   object \n",
            " 13  Residence index                                       989218 non-null   object \n",
            " 14  Foreigner index                                       989218 non-null   object \n",
            " 15  channel used by the customer to join                  989139 non-null   object \n",
            " 16  Deceased index                                        989218 non-null   object \n",
            " 17  primary address                                       989218 non-null   float64\n",
            " 18  Province code                                         982266 non-null   object \n",
            " 19  Province name                                         982266 non-null   object \n",
            " 20  Activity index                                        989218 non-null   float64\n",
            " 21  Gross income of the household                         824817 non-null   float64\n",
            " 22  Saving Account                                        1000000 non-null  int64  \n",
            " 23  Guarantees                                            1000000 non-null  int64  \n",
            " 24  Current Accounts                                      1000000 non-null  int64  \n",
            " 25  Derivada Account                                      1000000 non-null  int64  \n",
            " 26  Payroll Account                                       1000000 non-null  int64  \n",
            " 27  Junior Account                                        1000000 non-null  int64  \n",
            " 28  Más particular Account                                1000000 non-null  int64  \n",
            " 29  particular Account                                    1000000 non-null  int64  \n",
            " 30  particular Plus Account                               1000000 non-null  int64  \n",
            " 31  Short-term deposits                                   1000000 non-null  int64  \n",
            " 32  Medium-term deposits                                  1000000 non-null  int64  \n",
            " 33  Long-term deposits                                    1000000 non-null  int64  \n",
            " 34  e-account                                             1000000 non-null  int64  \n",
            " 35  Funds                                                 1000000 non-null  int64  \n",
            " 36  Mortgage                                              1000000 non-null  int64  \n",
            " 37  Pensions                                              1000000 non-null  int64  \n",
            " 38  Loans                                                 1000000 non-null  int64  \n",
            " 39  Taxes                                                 1000000 non-null  int64  \n",
            " 40  Credit Card                                           1000000 non-null  int64  \n",
            " 41  Securities                                            1000000 non-null  int64  \n",
            " 42  Home Account                                          1000000 non-null  int64  \n",
            " 43  Payroll                                               994598 non-null   float64\n",
            " 44  Pensions                                              994598 non-null   float64\n",
            " 45  Direct Debit                                          1000000 non-null  int64  \n",
            "dtypes: float64(6), int64(24), object(16)\n",
            "memory usage: 351.0+ MB\n"
          ]
        }
      ]
    },
    {
      "cell_type": "code",
      "source": [
        "data[\"Medium-term deposits\"].value_counts()"
      ],
      "metadata": {
        "id": "5RU6GjvfyJ0g",
        "colab": {
          "base_uri": "https://localhost:8080/"
        },
        "outputId": "8ae23e0a-640c-4fca-c279-c7379333dca0"
      },
      "execution_count": 14,
      "outputs": [
        {
          "output_type": "execute_result",
          "data": {
            "text/plain": [
              "0    996850\n",
              "1      3150\n",
              "Name: Medium-term deposits, dtype: int64"
            ]
          },
          "metadata": {},
          "execution_count": 14
        }
      ]
    },
    {
      "cell_type": "code",
      "source": [
        "# columns dropped because unique value is  1, \n",
        "drop_columns=['primary address']\n",
        "data.drop(drop_columns,axis=1,inplace=True)"
      ],
      "metadata": {
        "id": "_ZBViqP7yJ6m"
      },
      "execution_count": 15,
      "outputs": []
    },
    {
      "cell_type": "code",
      "source": [
        "data.head()"
      ],
      "metadata": {
        "id": "kzYv5-cTyJ-e",
        "colab": {
          "base_uri": "https://localhost:8080/",
          "height": 438
        },
        "outputId": "6f90f2b3-fa07-4978-a336-11aa24aea03a"
      },
      "execution_count": 16,
      "outputs": [
        {
          "output_type": "execute_result",
          "data": {
            "text/plain": [
              "   Unnamed: 0        Date  Customer code Employee index  \\\n",
              "0           0  2015-01-28        1375586   not_employee   \n",
              "1           1  2015-01-28        1050611   not_employee   \n",
              "2           2  2015-01-28        1050612   not_employee   \n",
              "3           3  2015-01-28        1050613   not_employee   \n",
              "4           4  2015-01-28        1050614   not_employee   \n",
              "\n",
              "  Customer Country residence Customers sex  Age The date contract in the bank  \\\n",
              "0                         ES             M   35                    2015-01-12   \n",
              "1                         ES             F   23                    2012-08-10   \n",
              "2                         ES             F   23                    2012-08-10   \n",
              "3                         ES             M   22                    2012-08-10   \n",
              "4                         ES             F   23                    2012-08-10   \n",
              "\n",
              "   New customer Index Customer seniority  ... Mortgage Pensions Loans Taxes  \\\n",
              "0                 0.0                  6  ...        0        0     0     0   \n",
              "1                 0.0                 35  ...        0        0     0     0   \n",
              "2                 0.0                 35  ...        0        0     0     0   \n",
              "3                 0.0                 35  ...        0        0     0     0   \n",
              "4                 0.0                 35  ...        0        0     0     0   \n",
              "\n",
              "  Credit Card Securities Home Account Payroll Pensions  Direct Debit  \n",
              "0           0          0            0     0.0      0.0             0  \n",
              "1           0          0            0     0.0      0.0             0  \n",
              "2           0          0            0     0.0      0.0             0  \n",
              "3           0          0            0     0.0      0.0             0  \n",
              "4           0          0            0     0.0      0.0             0  \n",
              "\n",
              "[5 rows x 45 columns]"
            ],
            "text/html": [
              "\n",
              "  <div id=\"df-d8c354ac-f069-4eb5-b9b3-1c104ca6c457\">\n",
              "    <div class=\"colab-df-container\">\n",
              "      <div>\n",
              "<style scoped>\n",
              "    .dataframe tbody tr th:only-of-type {\n",
              "        vertical-align: middle;\n",
              "    }\n",
              "\n",
              "    .dataframe tbody tr th {\n",
              "        vertical-align: top;\n",
              "    }\n",
              "\n",
              "    .dataframe thead th {\n",
              "        text-align: right;\n",
              "    }\n",
              "</style>\n",
              "<table border=\"1\" class=\"dataframe\">\n",
              "  <thead>\n",
              "    <tr style=\"text-align: right;\">\n",
              "      <th></th>\n",
              "      <th>Unnamed: 0</th>\n",
              "      <th>Date</th>\n",
              "      <th>Customer code</th>\n",
              "      <th>Employee index</th>\n",
              "      <th>Customer Country residence</th>\n",
              "      <th>Customers sex</th>\n",
              "      <th>Age</th>\n",
              "      <th>The date contract in the bank</th>\n",
              "      <th>New customer Index</th>\n",
              "      <th>Customer seniority</th>\n",
              "      <th>...</th>\n",
              "      <th>Mortgage</th>\n",
              "      <th>Pensions</th>\n",
              "      <th>Loans</th>\n",
              "      <th>Taxes</th>\n",
              "      <th>Credit Card</th>\n",
              "      <th>Securities</th>\n",
              "      <th>Home Account</th>\n",
              "      <th>Payroll</th>\n",
              "      <th>Pensions</th>\n",
              "      <th>Direct Debit</th>\n",
              "    </tr>\n",
              "  </thead>\n",
              "  <tbody>\n",
              "    <tr>\n",
              "      <th>0</th>\n",
              "      <td>0</td>\n",
              "      <td>2015-01-28</td>\n",
              "      <td>1375586</td>\n",
              "      <td>not_employee</td>\n",
              "      <td>ES</td>\n",
              "      <td>M</td>\n",
              "      <td>35</td>\n",
              "      <td>2015-01-12</td>\n",
              "      <td>0.0</td>\n",
              "      <td>6</td>\n",
              "      <td>...</td>\n",
              "      <td>0</td>\n",
              "      <td>0</td>\n",
              "      <td>0</td>\n",
              "      <td>0</td>\n",
              "      <td>0</td>\n",
              "      <td>0</td>\n",
              "      <td>0</td>\n",
              "      <td>0.0</td>\n",
              "      <td>0.0</td>\n",
              "      <td>0</td>\n",
              "    </tr>\n",
              "    <tr>\n",
              "      <th>1</th>\n",
              "      <td>1</td>\n",
              "      <td>2015-01-28</td>\n",
              "      <td>1050611</td>\n",
              "      <td>not_employee</td>\n",
              "      <td>ES</td>\n",
              "      <td>F</td>\n",
              "      <td>23</td>\n",
              "      <td>2012-08-10</td>\n",
              "      <td>0.0</td>\n",
              "      <td>35</td>\n",
              "      <td>...</td>\n",
              "      <td>0</td>\n",
              "      <td>0</td>\n",
              "      <td>0</td>\n",
              "      <td>0</td>\n",
              "      <td>0</td>\n",
              "      <td>0</td>\n",
              "      <td>0</td>\n",
              "      <td>0.0</td>\n",
              "      <td>0.0</td>\n",
              "      <td>0</td>\n",
              "    </tr>\n",
              "    <tr>\n",
              "      <th>2</th>\n",
              "      <td>2</td>\n",
              "      <td>2015-01-28</td>\n",
              "      <td>1050612</td>\n",
              "      <td>not_employee</td>\n",
              "      <td>ES</td>\n",
              "      <td>F</td>\n",
              "      <td>23</td>\n",
              "      <td>2012-08-10</td>\n",
              "      <td>0.0</td>\n",
              "      <td>35</td>\n",
              "      <td>...</td>\n",
              "      <td>0</td>\n",
              "      <td>0</td>\n",
              "      <td>0</td>\n",
              "      <td>0</td>\n",
              "      <td>0</td>\n",
              "      <td>0</td>\n",
              "      <td>0</td>\n",
              "      <td>0.0</td>\n",
              "      <td>0.0</td>\n",
              "      <td>0</td>\n",
              "    </tr>\n",
              "    <tr>\n",
              "      <th>3</th>\n",
              "      <td>3</td>\n",
              "      <td>2015-01-28</td>\n",
              "      <td>1050613</td>\n",
              "      <td>not_employee</td>\n",
              "      <td>ES</td>\n",
              "      <td>M</td>\n",
              "      <td>22</td>\n",
              "      <td>2012-08-10</td>\n",
              "      <td>0.0</td>\n",
              "      <td>35</td>\n",
              "      <td>...</td>\n",
              "      <td>0</td>\n",
              "      <td>0</td>\n",
              "      <td>0</td>\n",
              "      <td>0</td>\n",
              "      <td>0</td>\n",
              "      <td>0</td>\n",
              "      <td>0</td>\n",
              "      <td>0.0</td>\n",
              "      <td>0.0</td>\n",
              "      <td>0</td>\n",
              "    </tr>\n",
              "    <tr>\n",
              "      <th>4</th>\n",
              "      <td>4</td>\n",
              "      <td>2015-01-28</td>\n",
              "      <td>1050614</td>\n",
              "      <td>not_employee</td>\n",
              "      <td>ES</td>\n",
              "      <td>F</td>\n",
              "      <td>23</td>\n",
              "      <td>2012-08-10</td>\n",
              "      <td>0.0</td>\n",
              "      <td>35</td>\n",
              "      <td>...</td>\n",
              "      <td>0</td>\n",
              "      <td>0</td>\n",
              "      <td>0</td>\n",
              "      <td>0</td>\n",
              "      <td>0</td>\n",
              "      <td>0</td>\n",
              "      <td>0</td>\n",
              "      <td>0.0</td>\n",
              "      <td>0.0</td>\n",
              "      <td>0</td>\n",
              "    </tr>\n",
              "  </tbody>\n",
              "</table>\n",
              "<p>5 rows × 45 columns</p>\n",
              "</div>\n",
              "      <button class=\"colab-df-convert\" onclick=\"convertToInteractive('df-d8c354ac-f069-4eb5-b9b3-1c104ca6c457')\"\n",
              "              title=\"Convert this dataframe to an interactive table.\"\n",
              "              style=\"display:none;\">\n",
              "        \n",
              "  <svg xmlns=\"http://www.w3.org/2000/svg\" height=\"24px\"viewBox=\"0 0 24 24\"\n",
              "       width=\"24px\">\n",
              "    <path d=\"M0 0h24v24H0V0z\" fill=\"none\"/>\n",
              "    <path d=\"M18.56 5.44l.94 2.06.94-2.06 2.06-.94-2.06-.94-.94-2.06-.94 2.06-2.06.94zm-11 1L8.5 8.5l.94-2.06 2.06-.94-2.06-.94L8.5 2.5l-.94 2.06-2.06.94zm10 10l.94 2.06.94-2.06 2.06-.94-2.06-.94-.94-2.06-.94 2.06-2.06.94z\"/><path d=\"M17.41 7.96l-1.37-1.37c-.4-.4-.92-.59-1.43-.59-.52 0-1.04.2-1.43.59L10.3 9.45l-7.72 7.72c-.78.78-.78 2.05 0 2.83L4 21.41c.39.39.9.59 1.41.59.51 0 1.02-.2 1.41-.59l7.78-7.78 2.81-2.81c.8-.78.8-2.07 0-2.86zM5.41 20L4 18.59l7.72-7.72 1.47 1.35L5.41 20z\"/>\n",
              "  </svg>\n",
              "      </button>\n",
              "      \n",
              "  <style>\n",
              "    .colab-df-container {\n",
              "      display:flex;\n",
              "      flex-wrap:wrap;\n",
              "      gap: 12px;\n",
              "    }\n",
              "\n",
              "    .colab-df-convert {\n",
              "      background-color: #E8F0FE;\n",
              "      border: none;\n",
              "      border-radius: 50%;\n",
              "      cursor: pointer;\n",
              "      display: none;\n",
              "      fill: #1967D2;\n",
              "      height: 32px;\n",
              "      padding: 0 0 0 0;\n",
              "      width: 32px;\n",
              "    }\n",
              "\n",
              "    .colab-df-convert:hover {\n",
              "      background-color: #E2EBFA;\n",
              "      box-shadow: 0px 1px 2px rgba(60, 64, 67, 0.3), 0px 1px 3px 1px rgba(60, 64, 67, 0.15);\n",
              "      fill: #174EA6;\n",
              "    }\n",
              "\n",
              "    [theme=dark] .colab-df-convert {\n",
              "      background-color: #3B4455;\n",
              "      fill: #D2E3FC;\n",
              "    }\n",
              "\n",
              "    [theme=dark] .colab-df-convert:hover {\n",
              "      background-color: #434B5C;\n",
              "      box-shadow: 0px 1px 3px 1px rgba(0, 0, 0, 0.15);\n",
              "      filter: drop-shadow(0px 1px 2px rgba(0, 0, 0, 0.3));\n",
              "      fill: #FFFFFF;\n",
              "    }\n",
              "  </style>\n",
              "\n",
              "      <script>\n",
              "        const buttonEl =\n",
              "          document.querySelector('#df-d8c354ac-f069-4eb5-b9b3-1c104ca6c457 button.colab-df-convert');\n",
              "        buttonEl.style.display =\n",
              "          google.colab.kernel.accessAllowed ? 'block' : 'none';\n",
              "\n",
              "        async function convertToInteractive(key) {\n",
              "          const element = document.querySelector('#df-d8c354ac-f069-4eb5-b9b3-1c104ca6c457');\n",
              "          const dataTable =\n",
              "            await google.colab.kernel.invokeFunction('convertToInteractive',\n",
              "                                                     [key], {});\n",
              "          if (!dataTable) return;\n",
              "\n",
              "          const docLinkHtml = 'Like what you see? Visit the ' +\n",
              "            '<a target=\"_blank\" href=https://colab.research.google.com/notebooks/data_table.ipynb>data table notebook</a>'\n",
              "            + ' to learn more about interactive tables.';\n",
              "          element.innerHTML = '';\n",
              "          dataTable['output_type'] = 'display_data';\n",
              "          await google.colab.output.renderOutput(dataTable, element);\n",
              "          const docLink = document.createElement('div');\n",
              "          docLink.innerHTML = docLinkHtml;\n",
              "          element.appendChild(docLink);\n",
              "        }\n",
              "      </script>\n",
              "    </div>\n",
              "  </div>\n",
              "  "
            ]
          },
          "metadata": {},
          "execution_count": 16
        }
      ]
    },
    {
      "cell_type": "code",
      "source": [
        "data[\"Medium-term deposits\"].value_counts()\n"
      ],
      "metadata": {
        "id": "E6hvYP5F54br",
        "colab": {
          "base_uri": "https://localhost:8080/"
        },
        "outputId": "5275820f-4d60-4560-ea77-b669f0445da2"
      },
      "execution_count": 17,
      "outputs": [
        {
          "output_type": "execute_result",
          "data": {
            "text/plain": [
              "0    996850\n",
              "1      3150\n",
              "Name: Medium-term deposits, dtype: int64"
            ]
          },
          "metadata": {},
          "execution_count": 17
        }
      ]
    },
    {
      "cell_type": "code",
      "source": [
        "data[\"Short-term deposits\"].value_counts()"
      ],
      "metadata": {
        "id": "TTUx-7Ih6KSQ",
        "colab": {
          "base_uri": "https://localhost:8080/"
        },
        "outputId": "c56bbc98-38f5-45b5-d4de-85b25a11249f"
      },
      "execution_count": 18,
      "outputs": [
        {
          "output_type": "execute_result",
          "data": {
            "text/plain": [
              "0    997842\n",
              "1      2158\n",
              "Name: Short-term deposits, dtype: int64"
            ]
          },
          "metadata": {},
          "execution_count": 18
        }
      ]
    },
    {
      "cell_type": "code",
      "source": [
        "data[\"Long-term deposits\"].value_counts()"
      ],
      "metadata": {
        "id": "CMe3hJfj6X8C",
        "colab": {
          "base_uri": "https://localhost:8080/"
        },
        "outputId": "712c4837-e8c0-4bd7-a589-9f3e8514f28e"
      },
      "execution_count": 19,
      "outputs": [
        {
          "output_type": "execute_result",
          "data": {
            "text/plain": [
              "0    933119\n",
              "1     66881\n",
              "Name: Long-term deposits, dtype: int64"
            ]
          },
          "metadata": {},
          "execution_count": 19
        }
      ]
    },
    {
      "cell_type": "code",
      "source": [
        "data['Long-term deposits']=data['Long-term deposits'].replace({0: 0, 1: 3})\n",
        "data['Short-term deposits']=data['Short-term deposits'].replace({0: 0, 1: 1})\n",
        "data['Medium-term deposits']=data['Medium-term deposits'].replace({0: 0, 1: 2})"
      ],
      "metadata": {
        "id": "vXCygzF66g1T"
      },
      "execution_count": 20,
      "outputs": []
    },
    {
      "cell_type": "code",
      "source": [
        "data[\"Long-term deposits\"].value_counts()"
      ],
      "metadata": {
        "id": "B5DrAInY8NGj",
        "colab": {
          "base_uri": "https://localhost:8080/"
        },
        "outputId": "44402c3a-49ae-4931-8d63-728ced73b34e"
      },
      "execution_count": 21,
      "outputs": [
        {
          "output_type": "execute_result",
          "data": {
            "text/plain": [
              "0    933119\n",
              "3     66881\n",
              "Name: Long-term deposits, dtype: int64"
            ]
          },
          "metadata": {},
          "execution_count": 21
        }
      ]
    },
    {
      "cell_type": "code",
      "source": [
        "data[\"Deposit Terms\"] = data['Long-term deposits'] + data['Short-term deposits'] + data['Medium-term deposits']"
      ],
      "metadata": {
        "id": "IRnhRgsU_HbT"
      },
      "execution_count": 22,
      "outputs": []
    },
    {
      "cell_type": "code",
      "source": [
        "# 0    929606 - no term deposit \n",
        "# 3     65322 - long term \n",
        "# 1      1762 -  short term \n",
        "# 2      1679 - medium term \n",
        "# 5      1307 - long and medium term \n",
        "# 4       232 - two different types\n",
        "# 6        92 - two different types of account "
      ],
      "metadata": {
        "id": "iHZMyVXGAwq8"
      },
      "execution_count": 23,
      "outputs": []
    },
    {
      "cell_type": "code",
      "source": [
        "data[\"Deposit Terms\"].value_counts()"
      ],
      "metadata": {
        "id": "ZzbI9kh-_n0T",
        "colab": {
          "base_uri": "https://localhost:8080/"
        },
        "outputId": "2a6b4d0f-de80-4549-a415-417db6ffc2f5"
      },
      "execution_count": 24,
      "outputs": [
        {
          "output_type": "execute_result",
          "data": {
            "text/plain": [
              "0    929606\n",
              "3     65322\n",
              "1      1762\n",
              "2      1679\n",
              "5      1307\n",
              "4       232\n",
              "6        92\n",
              "Name: Deposit Terms, dtype: int64"
            ]
          },
          "metadata": {},
          "execution_count": 24
        }
      ]
    },
    {
      "cell_type": "code",
      "source": [
        "drop_columns=['Long-term deposits','Short-term deposits','Medium-term deposits']\n",
        "data.drop(drop_columns,axis=1,inplace=True)"
      ],
      "metadata": {
        "id": "NybYTPvWAJXL"
      },
      "execution_count": 25,
      "outputs": []
    },
    {
      "cell_type": "code",
      "source": [
        "# Accounts types"
      ],
      "metadata": {
        "id": "yGNEKw-oBqzz"
      },
      "execution_count": 26,
      "outputs": []
    },
    {
      "cell_type": "code",
      "source": [
        "data[\"Current Accounts\"].value_counts()"
      ],
      "metadata": {
        "id": "-NUmfL0QBq2Z",
        "colab": {
          "base_uri": "https://localhost:8080/"
        },
        "outputId": "6b7e756a-85ce-44bd-e877-4b489eae603d"
      },
      "execution_count": 27,
      "outputs": [
        {
          "output_type": "execute_result",
          "data": {
            "text/plain": [
              "1    749626\n",
              "0    250374\n",
              "Name: Current Accounts, dtype: int64"
            ]
          },
          "metadata": {},
          "execution_count": 27
        }
      ]
    },
    {
      "cell_type": "code",
      "source": [
        "data[\"Saving Account\"].value_counts()"
      ],
      "metadata": {
        "id": "RYemaY6NBq5M",
        "colab": {
          "base_uri": "https://localhost:8080/"
        },
        "outputId": "ad56c677-02a5-427e-d112-5efd4bf8e3af"
      },
      "execution_count": 28,
      "outputs": [
        {
          "output_type": "execute_result",
          "data": {
            "text/plain": [
              "0    999823\n",
              "1       177\n",
              "Name: Saving Account, dtype: int64"
            ]
          },
          "metadata": {},
          "execution_count": 28
        }
      ]
    },
    {
      "cell_type": "code",
      "source": [
        "data[\"Derivada Account\"].value_counts()"
      ],
      "metadata": {
        "id": "utZ6VNXgDk7D",
        "colab": {
          "base_uri": "https://localhost:8080/"
        },
        "outputId": "6cb93342-427f-4a84-e4ba-6114e9deafc4"
      },
      "execution_count": 29,
      "outputs": [
        {
          "output_type": "execute_result",
          "data": {
            "text/plain": [
              "0    999409\n",
              "1       591\n",
              "Name: Derivada Account, dtype: int64"
            ]
          },
          "metadata": {},
          "execution_count": 29
        }
      ]
    },
    {
      "cell_type": "code",
      "source": [
        "data[\"Payroll Account\"].value_counts()"
      ],
      "metadata": {
        "id": "dihiqfVWDk91",
        "colab": {
          "base_uri": "https://localhost:8080/"
        },
        "outputId": "3b6d6e35-7319-44a7-9aa8-9c2c812d744c"
      },
      "execution_count": 30,
      "outputs": [
        {
          "output_type": "execute_result",
          "data": {
            "text/plain": [
              "0    894704\n",
              "1    105296\n",
              "Name: Payroll Account, dtype: int64"
            ]
          },
          "metadata": {},
          "execution_count": 30
        }
      ]
    },
    {
      "cell_type": "code",
      "source": [
        "data[\"Junior Account\"].value_counts()"
      ],
      "metadata": {
        "id": "JgMW3fgUDlA8",
        "colab": {
          "base_uri": "https://localhost:8080/"
        },
        "outputId": "087f90be-df5d-47f1-b098-2084dd79a15b"
      },
      "execution_count": 31,
      "outputs": [
        {
          "output_type": "execute_result",
          "data": {
            "text/plain": [
              "0    986377\n",
              "1     13623\n",
              "Name: Junior Account, dtype: int64"
            ]
          },
          "metadata": {},
          "execution_count": 31
        }
      ]
    },
    {
      "cell_type": "code",
      "source": [
        "data[\"Más particular Account\"].value_counts()"
      ],
      "metadata": {
        "id": "jVGNGD-DDlEp",
        "colab": {
          "base_uri": "https://localhost:8080/"
        },
        "outputId": "74ee9490-9fa4-4404-c736-5aae22d25ee1"
      },
      "execution_count": 32,
      "outputs": [
        {
          "output_type": "execute_result",
          "data": {
            "text/plain": [
              "0    990106\n",
              "1      9894\n",
              "Name: Más particular Account, dtype: int64"
            ]
          },
          "metadata": {},
          "execution_count": 32
        }
      ]
    },
    {
      "cell_type": "code",
      "source": [
        "data[\"particular Account\"].value_counts()"
      ],
      "metadata": {
        "id": "eoZg1q3tDlHL",
        "colab": {
          "base_uri": "https://localhost:8080/"
        },
        "outputId": "5d02ad96-798c-42da-aab3-d9c735577f3c"
      },
      "execution_count": 33,
      "outputs": [
        {
          "output_type": "execute_result",
          "data": {
            "text/plain": [
              "0    787514\n",
              "1    212486\n",
              "Name: particular Account, dtype: int64"
            ]
          },
          "metadata": {},
          "execution_count": 33
        }
      ]
    },
    {
      "cell_type": "code",
      "source": [
        "data[\"particular Plus Account\"].value_counts()"
      ],
      "metadata": {
        "id": "VUakJkaoEU_r",
        "colab": {
          "base_uri": "https://localhost:8080/"
        },
        "outputId": "5d03d9de-8124-43ae-bdf9-dc7155d95ca5"
      },
      "execution_count": 34,
      "outputs": [
        {
          "output_type": "execute_result",
          "data": {
            "text/plain": [
              "0    927921\n",
              "1     72079\n",
              "Name: particular Plus Account, dtype: int64"
            ]
          },
          "metadata": {},
          "execution_count": 34
        }
      ]
    },
    {
      "cell_type": "code",
      "source": [
        "data[\"e-account\"].value_counts()"
      ],
      "metadata": {
        "id": "UYPaqB2REVCW",
        "colab": {
          "base_uri": "https://localhost:8080/"
        },
        "outputId": "10eb8330-1225-4549-c63e-6325c0f7e306"
      },
      "execution_count": 35,
      "outputs": [
        {
          "output_type": "execute_result",
          "data": {
            "text/plain": [
              "0    893733\n",
              "1    106267\n",
              "Name: e-account, dtype: int64"
            ]
          },
          "metadata": {},
          "execution_count": 35
        }
      ]
    },
    {
      "cell_type": "code",
      "source": [
        "data[\"Home Account\"].value_counts()"
      ],
      "metadata": {
        "id": "Ytq8NqvAEVFE",
        "colab": {
          "base_uri": "https://localhost:8080/"
        },
        "outputId": "3aab9416-6d2f-4ac5-f91a-2993fb44c5d7"
      },
      "execution_count": 36,
      "outputs": [
        {
          "output_type": "execute_result",
          "data": {
            "text/plain": [
              "0    993558\n",
              "1      6442\n",
              "Name: Home Account, dtype: int64"
            ]
          },
          "metadata": {},
          "execution_count": 36
        }
      ]
    },
    {
      "cell_type": "code",
      "source": [
        "data['Current Accounts']=data['Current Accounts'].replace({0: 0, 1: 1})\n",
        "data['Payroll Account']=data['Payroll Account'].replace({0: 0, 1: 1})\n",
        "data['Junior Account']=data['Junior Account'].replace({0: 0, 1: 1})\n",
        "data['Más particular Account']=data['Más particular Account'].replace({0: 0, 1: 1})\n",
        "data['particular Account']=data['particular Account'].replace({0: 0, 1: 1})\n",
        "data['particular Plus Account']=data['particular Plus Account'].replace({0: 0, 1: 1})\n",
        "data['e-account']=data['e-account'].replace({0: 0, 1: 1})\n",
        "data['Home Account']=data['Home Account'].replace({0: 0, 1: 1})\n",
        "data['Saving Account']=data['Saving Account'].replace({0: 0, 1: 1})\n",
        "data['Derivada Account']=data['Derivada Account'].replace({0: 0, 1: 1})"
      ],
      "metadata": {
        "id": "n64Ohwo7Bq65"
      },
      "execution_count": 37,
      "outputs": []
    },
    {
      "cell_type": "code",
      "source": [
        "data[\"Accounts_counts\"] = data['Derivada Account']+ data['Current Accounts'] + data['Payroll Account']+ data['Junior Account']+ data['Más particular Account']+data['particular Account']+ data['particular Plus Account']+data['e-account']+data['Home Account']+data['Saving Account']"
      ],
      "metadata": {
        "id": "6e6-l9XDGCA9"
      },
      "execution_count": 38,
      "outputs": []
    },
    {
      "cell_type": "code",
      "source": [
        "data[\"Accounts_counts\"].value_counts()"
      ],
      "metadata": {
        "id": "PxxbIfFlGCDi",
        "colab": {
          "base_uri": "https://localhost:8080/"
        },
        "outputId": "9659babe-e2b5-4ad7-d74b-f39e43bec5e7"
      },
      "execution_count": 39,
      "outputs": [
        {
          "output_type": "execute_result",
          "data": {
            "text/plain": [
              "1    655049\n",
              "2    242465\n",
              "0     59340\n",
              "3     36806\n",
              "4      5644\n",
              "5       668\n",
              "6        28\n",
              "Name: Accounts_counts, dtype: int64"
            ]
          },
          "metadata": {},
          "execution_count": 39
        }
      ]
    },
    {
      "cell_type": "code",
      "source": [
        "# columns dropped because unique value is  1, \n",
        "drop_columns=['Current Accounts','Payroll Account','Junior Account','Más particular Account','particular Account','particular Plus Account','e-account','Home Account','Saving Account','Derivada Account']\n",
        "data.drop(drop_columns,axis=1,inplace=True)"
      ],
      "metadata": {
        "id": "1Sz_izvdGCGn"
      },
      "execution_count": 40,
      "outputs": []
    },
    {
      "cell_type": "code",
      "source": [
        "data.info()"
      ],
      "metadata": {
        "id": "RhatFPNPAfsa",
        "colab": {
          "base_uri": "https://localhost:8080/"
        },
        "outputId": "13ffead2-12ec-41a5-875f-47d825158ac8"
      },
      "execution_count": 41,
      "outputs": [
        {
          "output_type": "stream",
          "name": "stdout",
          "text": [
            "<class 'pandas.core.frame.DataFrame'>\n",
            "RangeIndex: 1000000 entries, 0 to 999999\n",
            "Data columns (total 34 columns):\n",
            " #   Column                                                Non-Null Count    Dtype  \n",
            "---  ------                                                --------------    -----  \n",
            " 0   Unnamed: 0                                            1000000 non-null  int64  \n",
            " 1   Date                                                  1000000 non-null  object \n",
            " 2   Customer code                                         1000000 non-null  int64  \n",
            " 3   Employee index                                        989218 non-null   object \n",
            " 4   Customer Country residence                            989218 non-null   object \n",
            " 5   Customers sex                                         989214 non-null   object \n",
            " 6   Age                                                   1000000 non-null  object \n",
            " 7   The date contract in the bank                         989218 non-null   object \n",
            " 8   New customer Index                                    989218 non-null   float64\n",
            " 9   Customer seniority                                    1000000 non-null  object \n",
            " 10  Primary at the end of the month                       989218 non-null   object \n",
            " 11  Customer type at the beginning of the month           989218 non-null   object \n",
            " 12  Customer relation type at the beginning of the month  989218 non-null   object \n",
            " 13  Residence index                                       989218 non-null   object \n",
            " 14  Foreigner index                                       989218 non-null   object \n",
            " 15  channel used by the customer to join                  989139 non-null   object \n",
            " 16  Deceased index                                        989218 non-null   object \n",
            " 17  Province code                                         982266 non-null   object \n",
            " 18  Province name                                         982266 non-null   object \n",
            " 19  Activity index                                        989218 non-null   float64\n",
            " 20  Gross income of the household                         824817 non-null   float64\n",
            " 21  Guarantees                                            1000000 non-null  int64  \n",
            " 22  Funds                                                 1000000 non-null  int64  \n",
            " 23  Mortgage                                              1000000 non-null  int64  \n",
            " 24  Pensions                                              1000000 non-null  int64  \n",
            " 25  Loans                                                 1000000 non-null  int64  \n",
            " 26  Taxes                                                 1000000 non-null  int64  \n",
            " 27  Credit Card                                           1000000 non-null  int64  \n",
            " 28  Securities                                            1000000 non-null  int64  \n",
            " 29  Payroll                                               994598 non-null   float64\n",
            " 30  Pensions                                              994598 non-null   float64\n",
            " 31  Direct Debit                                          1000000 non-null  int64  \n",
            " 32  Deposit Terms                                         1000000 non-null  int64  \n",
            " 33  Accounts_counts                                       1000000 non-null  int64  \n",
            "dtypes: float64(5), int64(13), object(16)\n",
            "memory usage: 259.4+ MB\n"
          ]
        }
      ]
    },
    {
      "cell_type": "code",
      "source": [
        "data[\"Customer type at the beginning of the month\"].value_counts()"
      ],
      "metadata": {
        "id": "PBrdJAgNJyPG",
        "colab": {
          "base_uri": "https://localhost:8080/"
        },
        "outputId": "4d4ec66c-46bf-47fc-feb6-ef3ba20c452d"
      },
      "execution_count": 42,
      "outputs": [
        {
          "output_type": "execute_result",
          "data": {
            "text/plain": [
              "Primary           989175\n",
              "former_primary        41\n",
              "co-owner               2\n",
              "Name: Customer type at the beginning of the month, dtype: int64"
            ]
          },
          "metadata": {},
          "execution_count": 42
        }
      ]
    },
    {
      "cell_type": "code",
      "source": [
        "data[\"Primary at the end of the month\"].value_counts()"
      ],
      "metadata": {
        "id": "OLC4LY2PKQsc",
        "colab": {
          "base_uri": "https://localhost:8080/"
        },
        "outputId": "9e7b2435-cc76-4d08-983b-3ffaa5df68c2"
      },
      "execution_count": 43,
      "outputs": [
        {
          "output_type": "execute_result",
          "data": {
            "text/plain": [
              "Primary        988117\n",
              "Not_Primary      1101\n",
              "Name: Primary at the end of the month, dtype: int64"
            ]
          },
          "metadata": {},
          "execution_count": 43
        }
      ]
    },
    {
      "cell_type": "code",
      "source": [
        "data[\"Customer relation type at the beginning of the month\"].value_counts()"
      ],
      "metadata": {
        "id": "_pkSuy3ALOME",
        "colab": {
          "base_uri": "https://localhost:8080/"
        },
        "outputId": "4f493b7d-33d7-4a78-d8ae-fb8d25ae0506"
      },
      "execution_count": 44,
      "outputs": [
        {
          "output_type": "execute_result",
          "data": {
            "text/plain": [
              "active             547800\n",
              "inactive           441377\n",
              "former customer        41\n",
              "Name: Customer relation type at the beginning of the month, dtype: int64"
            ]
          },
          "metadata": {},
          "execution_count": 44
        }
      ]
    },
    {
      "cell_type": "code",
      "source": [
        "data[\"Activity index\"].value_counts()"
      ],
      "metadata": {
        "id": "eCLIqQn-LphE",
        "colab": {
          "base_uri": "https://localhost:8080/"
        },
        "outputId": "3aadd54c-004e-4add-f97a-801c172cb0ac"
      },
      "execution_count": 45,
      "outputs": [
        {
          "output_type": "execute_result",
          "data": {
            "text/plain": [
              "1.0    558879\n",
              "0.0    430339\n",
              "Name: Activity index, dtype: int64"
            ]
          },
          "metadata": {},
          "execution_count": 45
        }
      ]
    },
    {
      "cell_type": "code",
      "source": [
        "droped_columns= [\"Customer type at the beginning of the month\",\"Primary at the end of the month\"]\n",
        "data.drop(droped_columns,axis=1,inplace=True)"
      ],
      "metadata": {
        "id": "LT258Z7zO13u"
      },
      "execution_count": 46,
      "outputs": []
    },
    {
      "cell_type": "code",
      "source": [
        "data.info()"
      ],
      "metadata": {
        "id": "P9D-BhZyPO4d",
        "colab": {
          "base_uri": "https://localhost:8080/"
        },
        "outputId": "1c3823c6-05a2-4e17-fed2-600326c3dd3d"
      },
      "execution_count": 47,
      "outputs": [
        {
          "output_type": "stream",
          "name": "stdout",
          "text": [
            "<class 'pandas.core.frame.DataFrame'>\n",
            "RangeIndex: 1000000 entries, 0 to 999999\n",
            "Data columns (total 32 columns):\n",
            " #   Column                                                Non-Null Count    Dtype  \n",
            "---  ------                                                --------------    -----  \n",
            " 0   Unnamed: 0                                            1000000 non-null  int64  \n",
            " 1   Date                                                  1000000 non-null  object \n",
            " 2   Customer code                                         1000000 non-null  int64  \n",
            " 3   Employee index                                        989218 non-null   object \n",
            " 4   Customer Country residence                            989218 non-null   object \n",
            " 5   Customers sex                                         989214 non-null   object \n",
            " 6   Age                                                   1000000 non-null  object \n",
            " 7   The date contract in the bank                         989218 non-null   object \n",
            " 8   New customer Index                                    989218 non-null   float64\n",
            " 9   Customer seniority                                    1000000 non-null  object \n",
            " 10  Customer relation type at the beginning of the month  989218 non-null   object \n",
            " 11  Residence index                                       989218 non-null   object \n",
            " 12  Foreigner index                                       989218 non-null   object \n",
            " 13  channel used by the customer to join                  989139 non-null   object \n",
            " 14  Deceased index                                        989218 non-null   object \n",
            " 15  Province code                                         982266 non-null   object \n",
            " 16  Province name                                         982266 non-null   object \n",
            " 17  Activity index                                        989218 non-null   float64\n",
            " 18  Gross income of the household                         824817 non-null   float64\n",
            " 19  Guarantees                                            1000000 non-null  int64  \n",
            " 20  Funds                                                 1000000 non-null  int64  \n",
            " 21  Mortgage                                              1000000 non-null  int64  \n",
            " 22  Pensions                                              1000000 non-null  int64  \n",
            " 23  Loans                                                 1000000 non-null  int64  \n",
            " 24  Taxes                                                 1000000 non-null  int64  \n",
            " 25  Credit Card                                           1000000 non-null  int64  \n",
            " 26  Securities                                            1000000 non-null  int64  \n",
            " 27  Payroll                                               994598 non-null   float64\n",
            " 28  Pensions                                              994598 non-null   float64\n",
            " 29  Direct Debit                                          1000000 non-null  int64  \n",
            " 30  Deposit Terms                                         1000000 non-null  int64  \n",
            " 31  Accounts_counts                                       1000000 non-null  int64  \n",
            "dtypes: float64(5), int64(13), object(14)\n",
            "memory usage: 244.1+ MB\n"
          ]
        }
      ]
    },
    {
      "cell_type": "code",
      "source": [
        "data[\"Residence index\"].value_counts()"
      ],
      "metadata": {
        "id": "EI5g4kIsNE08",
        "colab": {
          "base_uri": "https://localhost:8080/"
        },
        "outputId": "c50469e1-4a0d-44f6-bec6-2e8b48979099"
      },
      "execution_count": 48,
      "outputs": [
        {
          "output_type": "execute_result",
          "data": {
            "text/plain": [
              "1.0    982264\n",
              "0.0      6954\n",
              "Name: Residence index, dtype: int64"
            ]
          },
          "metadata": {},
          "execution_count": 48
        }
      ]
    },
    {
      "cell_type": "code",
      "source": [
        "data[\"Foreigner index\"].value_counts()"
      ],
      "metadata": {
        "id": "MnSm2QEsNJnF",
        "colab": {
          "base_uri": "https://localhost:8080/"
        },
        "outputId": "063297fa-2d6e-41ca-c2d4-022edc991b13"
      },
      "execution_count": 49,
      "outputs": [
        {
          "output_type": "execute_result",
          "data": {
            "text/plain": [
              "0.0    946328\n",
              "1.0     42890\n",
              "Name: Foreigner index, dtype: int64"
            ]
          },
          "metadata": {},
          "execution_count": 49
        }
      ]
    },
    {
      "cell_type": "code",
      "source": [
        "data[\"Deceased index\"].value_counts()"
      ],
      "metadata": {
        "id": "nsEU_h-ANJq3",
        "colab": {
          "base_uri": "https://localhost:8080/"
        },
        "outputId": "e91367c6-e6d8-4ea7-f20e-052e6f11d3b7"
      },
      "execution_count": 50,
      "outputs": [
        {
          "output_type": "execute_result",
          "data": {
            "text/plain": [
              "0.0    986107\n",
              "1.0      3111\n",
              "Name: Deceased index, dtype: int64"
            ]
          },
          "metadata": {},
          "execution_count": 50
        }
      ]
    },
    {
      "cell_type": "code",
      "source": [
        "data.drop(data[data['Deceased index'] ==1.0].index, inplace = True)"
      ],
      "metadata": {
        "id": "akSBE3wsQ1MX"
      },
      "execution_count": 51,
      "outputs": []
    },
    {
      "cell_type": "code",
      "source": [
        "data[\"Deceased index\"].value_counts()"
      ],
      "metadata": {
        "id": "MZDn3n2vQ1PI",
        "colab": {
          "base_uri": "https://localhost:8080/"
        },
        "outputId": "4f2ef31b-923d-4e26-edc6-3a3af116b1df"
      },
      "execution_count": 52,
      "outputs": [
        {
          "output_type": "execute_result",
          "data": {
            "text/plain": [
              "0.0    986107\n",
              "Name: Deceased index, dtype: int64"
            ]
          },
          "metadata": {},
          "execution_count": 52
        }
      ]
    },
    {
      "cell_type": "code",
      "source": [
        "droped_columns= [\"Guarantees\",\"Pensions\",\"Province code\",\"Deceased index\",\"Employee index\"]\n",
        "data.drop(droped_columns,axis=1,inplace=True)\n",
        "# pensions columns are repeated \n",
        "# guarantees columns has high biased on 0\n",
        "# Province code is not necesary since we have provience name "
      ],
      "metadata": {
        "id": "yzUEUR-MQ1S7"
      },
      "execution_count": 53,
      "outputs": []
    },
    {
      "cell_type": "code",
      "source": [],
      "metadata": {
        "id": "IQ3k4CjMY1yW"
      },
      "execution_count": 53,
      "outputs": []
    },
    {
      "cell_type": "code",
      "source": [
        "# convert the 'Date' column to datetime format\n",
        "data['Date']= pd.to_datetime(data['Date'])\n",
        "#data['The date contract in the bank']= pd.to_datetime(data['The date contract in the bank'])"
      ],
      "metadata": {
        "id": "7ZErv0JIY10_"
      },
      "execution_count": 54,
      "outputs": []
    },
    {
      "cell_type": "code",
      "source": [
        "data[\"Age\"].value_counts()"
      ],
      "metadata": {
        "id": "XCDnlyjylT8G",
        "colab": {
          "base_uri": "https://localhost:8080/"
        },
        "outputId": "e8e5517a-61ed-429f-e0bb-d014af8ba592"
      },
      "execution_count": 55,
      "outputs": [
        {
          "output_type": "execute_result",
          "data": {
            "text/plain": [
              " 22    51017\n",
              " 23    45366\n",
              " 24    38992\n",
              " 21    34014\n",
              " 44    28774\n",
              "       ...  \n",
              "  2       11\n",
              "115       10\n",
              "110       10\n",
              "113        8\n",
              "116        4\n",
              "Name: Age, Length: 115, dtype: int64"
            ]
          },
          "metadata": {},
          "execution_count": 55
        }
      ]
    },
    {
      "cell_type": "code",
      "source": [
        "data[\"Customer seniority\"].value_counts()"
      ],
      "metadata": {
        "id": "hVC3j7hjmGoP",
        "colab": {
          "base_uri": "https://localhost:8080/"
        },
        "outputId": "f6f5299f-20e8-416b-f2a5-a3175be71965"
      },
      "execution_count": 56,
      "outputs": [
        {
          "output_type": "execute_result",
          "data": {
            "text/plain": [
              "     21    34318\n",
              "     23    23122\n",
              "     24    20466\n",
              "     12    19152\n",
              "     20    18580\n",
              "           ...  \n",
              "      0       49\n",
              "      2       46\n",
              "      1       37\n",
              "      3       33\n",
              "-999999        4\n",
              "Name: Customer seniority, Length: 249, dtype: int64"
            ]
          },
          "metadata": {},
          "execution_count": 56
        }
      ]
    },
    {
      "cell_type": "code",
      "source": [
        "data[\"Customer seniority\"].max()"
      ],
      "metadata": {
        "id": "4rnu6d58mUZ-",
        "colab": {
          "base_uri": "https://localhost:8080/",
          "height": 36
        },
        "outputId": "4ba05fe6-521c-4d61-d17b-d353cdb85679"
      },
      "execution_count": 57,
      "outputs": [
        {
          "output_type": "execute_result",
          "data": {
            "text/plain": [
              "'-999999'"
            ],
            "application/vnd.google.colaboratory.intrinsic+json": {
              "type": "string"
            }
          },
          "metadata": {},
          "execution_count": 57
        }
      ]
    },
    {
      "cell_type": "code",
      "source": [
        "import numpy as np\n",
        "data[['Age','Customer seniority']]=data[['Age','Customer seniority']].apply(lambda X:X.str.strip()).replace('NA',np.nan).astype('float')"
      ],
      "metadata": {
        "id": "8qtX0V9xe7LR"
      },
      "execution_count": 58,
      "outputs": []
    },
    {
      "cell_type": "code",
      "source": [
        "data[\"Payroll\"].value_counts()"
      ],
      "metadata": {
        "id": "VB-hsgHSlT-v",
        "colab": {
          "base_uri": "https://localhost:8080/"
        },
        "outputId": "e8d5c53a-0880-4752-e5da-080f7ffbd88d"
      },
      "execution_count": 59,
      "outputs": [
        {
          "output_type": "execute_result",
          "data": {
            "text/plain": [
              "0.0    920266\n",
              "1.0     71222\n",
              "Name: Payroll, dtype: int64"
            ]
          },
          "metadata": {},
          "execution_count": 59
        }
      ]
    },
    {
      "cell_type": "code",
      "source": [
        "data.isnull().sum()"
      ],
      "metadata": {
        "id": "TgKKc_fUvPah",
        "colab": {
          "base_uri": "https://localhost:8080/"
        },
        "outputId": "6955d836-868a-4373-d209-261653e2fb4a"
      },
      "execution_count": 60,
      "outputs": [
        {
          "output_type": "execute_result",
          "data": {
            "text/plain": [
              "Unnamed: 0                                                   0\n",
              "Date                                                         0\n",
              "Customer code                                                0\n",
              "Customer Country residence                               10782\n",
              "Customers sex                                            10786\n",
              "Age                                                      10782\n",
              "The date contract in the bank                            10782\n",
              "New customer Index                                       10782\n",
              "Customer seniority                                       10782\n",
              "Customer relation type at the beginning of the month     10782\n",
              "Residence index                                          10782\n",
              "Foreigner index                                          10782\n",
              "channel used by the customer to join                     10861\n",
              "Province name                                            17714\n",
              "Activity index                                           10782\n",
              "Gross income of the household                           174577\n",
              "Funds                                                        0\n",
              "Mortgage                                                     0\n",
              "Loans                                                        0\n",
              "Taxes                                                        0\n",
              "Credit Card                                                  0\n",
              "Securities                                                   0\n",
              "Payroll                                                   5401\n",
              "Direct Debit                                                 0\n",
              "Deposit Terms                                                0\n",
              "Accounts_counts                                              0\n",
              "dtype: int64"
            ]
          },
          "metadata": {},
          "execution_count": 60
        }
      ]
    },
    {
      "cell_type": "code",
      "source": [
        "data.shape"
      ],
      "metadata": {
        "id": "kxnlbVg3xFSN",
        "colab": {
          "base_uri": "https://localhost:8080/"
        },
        "outputId": "b6513ae3-a69b-433a-9894-8639e1c1531c"
      },
      "execution_count": 61,
      "outputs": [
        {
          "output_type": "execute_result",
          "data": {
            "text/plain": [
              "(996889, 26)"
            ]
          },
          "metadata": {},
          "execution_count": 61
        }
      ]
    },
    {
      "cell_type": "code",
      "source": [
        "data.isnull().sum()"
      ],
      "metadata": {
        "id": "l_h5hHajzTjh",
        "colab": {
          "base_uri": "https://localhost:8080/"
        },
        "outputId": "837114f3-1043-4bc4-fc10-5a660bce6b08"
      },
      "execution_count": 63,
      "outputs": [
        {
          "output_type": "execute_result",
          "data": {
            "text/plain": [
              "Unnamed: 0                                                   0\n",
              "Date                                                         0\n",
              "Customer code                                                0\n",
              "Customer Country residence                               10782\n",
              "Customers sex                                            10786\n",
              "Age                                                      10782\n",
              "The date contract in the bank                            10782\n",
              "New customer Index                                       10782\n",
              "Customer seniority                                       10782\n",
              "Customer relation type at the beginning of the month     10782\n",
              "Residence index                                          10782\n",
              "Foreigner index                                          10782\n",
              "channel used by the customer to join                     10861\n",
              "Province name                                            17714\n",
              "Activity index                                           10782\n",
              "Gross income of the household                           174577\n",
              "Funds                                                        0\n",
              "Mortgage                                                     0\n",
              "Loans                                                        0\n",
              "Taxes                                                        0\n",
              "Credit Card                                                  0\n",
              "Securities                                                   0\n",
              "Payroll                                                   5401\n",
              "Direct Debit                                                 0\n",
              "Deposit Terms                                                0\n",
              "Accounts_counts                                              0\n",
              "dtype: int64"
            ]
          },
          "metadata": {},
          "execution_count": 63
        }
      ]
    },
    {
      "cell_type": "code",
      "source": [
        "plt.figure(figsize=(9,9))\n",
        "sns.heatmap(data.isnull())"
      ],
      "metadata": {
        "id": "ah298HjsxFUu",
        "colab": {
          "base_uri": "https://localhost:8080/",
          "height": 975
        },
        "outputId": "6d79b081-09d8-4f2b-f0fa-386799da31ca"
      },
      "execution_count": 64,
      "outputs": [
        {
          "output_type": "execute_result",
          "data": {
            "text/plain": [
              "<matplotlib.axes._subplots.AxesSubplot at 0x7f87afe14590>"
            ]
          },
          "metadata": {},
          "execution_count": 64
        },
        {
          "output_type": "display_data",
          "data": {
            "text/plain": [
              "<Figure size 648x648 with 2 Axes>"
            ],
            "image/png": "[encoded data removed]"
          },
          "metadata": {}
        }
      ]
    },
    {
      "cell_type": "markdown",
      "source": [
        "## Changing the date features format"
      ],
      "metadata": {
        "id": "HYBEqr_sPGF7"
      }
    },
    {
      "cell_type": "code",
      "source": [
        "data['Customer seniority'].mask(data['Customer seniority'].lt(0),0,inplace=True)"
      ],
      "metadata": {
        "id": "tpNWxFA-Bw8N"
      },
      "execution_count": 65,
      "outputs": []
    },
    {
      "cell_type": "code",
      "source": [
        "data=data.astype({'Residence index':float,'Foreigner index':float})"
      ],
      "metadata": {
        "id": "7pxwwU3BAryd"
      },
      "execution_count": 66,
      "outputs": []
    },
    {
      "cell_type": "code",
      "source": [
        "# delet not usefull columns\n",
        "data.drop(['Unnamed: 0'],axis=1,inplace=True)"
      ],
      "metadata": {
        "id": "a-XjJ9F2P1ZH"
      },
      "execution_count": 67,
      "outputs": []
    },
    {
      "cell_type": "markdown",
      "source": [
        "# Handling NULL Values"
      ],
      "metadata": {
        "id": "oMeKuIfZY6tP"
      }
    },
    {
      "cell_type": "code",
      "source": [
        "obj_data=data[[\"Customer Country residence\",\"Customers sex\",\"New customer Index\",\"Customer relation type at the beginning of the month\",\"Residence index\",\"Foreigner index\",\"channel used by the customer to join\",\"Province name\",\"Activity index\",\"Payroll\"]]"
      ],
      "metadata": {
        "id": "dEPBRKKGbstm"
      },
      "execution_count": 70,
      "outputs": []
    },
    {
      "cell_type": "code",
      "source": [
        "num_data=data[[\"Customer seniority\",\"Age\",\"Gross income of the household\"]]"
      ],
      "metadata": {
        "id": "tL1k5BQfcsqO"
      },
      "execution_count": 71,
      "outputs": []
    },
    {
      "cell_type": "code",
      "source": [
        "data[\"Customer Country residence\"].fillna(data[\"Customer Country residence\"].mode, inplace = True)\n",
        "data[\"Customers sex\"].fillna(data[\"Customers sex\"].mode, inplace = True)\n",
        "data[\"New customer Index\"].fillna(data[\"New customer Index\"].mode, inplace = True)\n",
        "data[\"Customer relation type at the beginning of the month\"].fillna(data[\"Customer relation type at the beginning of the month\"].mode, inplace = True)\n",
        "data[\"Residence index\"].fillna(data[\"Residence index\"].mode, inplace = True)\n",
        "data[\"Foreigner index\"].fillna(data[\"Foreigner index\"].mode, inplace = True)\n",
        "data[\"channel used by the customer to join\"].fillna(data[\"channel used by the customer to join\"].mode, inplace = True)\n",
        "data[\"Province name\"].fillna(data[\"Province name\"].mode, inplace = True)\n",
        "data[\"Activity index\"].fillna(data[\"Activity index\"].mode, inplace = True)\n",
        "data[\"Payroll\"].fillna(data[\"Payroll\"].mode, inplace = True)\n",
        "data[\"The date contract in the bank\"].fillna(data[\"The date contract in the bank\"].mode, inplace = True)"
      ],
      "metadata": {
        "id": "vmik_48Bhl5Q"
      },
      "execution_count": 85,
      "outputs": []
    },
    {
      "cell_type": "code",
      "source": [
        "data[\"Customer seniority\"].fillna(data[\"Customer seniority\"].mean, inplace = True)\n",
        "data[\"Gross income of the household\"].fillna(data[\"Gross income of the household\"].mean, inplace = True)\n",
        "data[\"Age\"].fillna(data[\"Age\"].mean, inplace = True)"
      ],
      "metadata": {
        "id": "hxQIgAr3hl7t"
      },
      "execution_count": 83,
      "outputs": []
    },
    {
      "cell_type": "code",
      "source": [
        "data.isnull().sum()"
      ],
      "metadata": {
        "colab": {
          "base_uri": "https://localhost:8080/"
        },
        "id": "8MpLUUrhjKmP",
        "outputId": "276b7492-2757-4784-bd5f-92de5891d440"
      },
      "execution_count": 86,
      "outputs": [
        {
          "output_type": "execute_result",
          "data": {
            "text/plain": [
              "Date                                                    0\n",
              "Customer code                                           0\n",
              "Customer Country residence                              0\n",
              "Customers sex                                           0\n",
              "Age                                                     0\n",
              "The date contract in the bank                           0\n",
              "New customer Index                                      0\n",
              "Customer seniority                                      0\n",
              "Customer relation type at the beginning of the month    0\n",
              "Residence index                                         0\n",
              "Foreigner index                                         0\n",
              "channel used by the customer to join                    0\n",
              "Province name                                           0\n",
              "Activity index                                          0\n",
              "Gross income of the household                           0\n",
              "Funds                                                   0\n",
              "Mortgage                                                0\n",
              "Loans                                                   0\n",
              "Taxes                                                   0\n",
              "Credit Card                                             0\n",
              "Securities                                              0\n",
              "Payroll                                                 0\n",
              "Direct Debit                                            0\n",
              "Deposit Terms                                           0\n",
              "Accounts_counts                                         0\n",
              "dtype: int64"
            ]
          },
          "metadata": {},
          "execution_count": 86
        }
      ]
    }
  ]
}